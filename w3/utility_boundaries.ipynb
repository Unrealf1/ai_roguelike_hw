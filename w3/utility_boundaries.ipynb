{
  "cells": [
    {
      "cell_type": "code",
      "execution_count": 1,
      "id": "6571b13a",
      "metadata": {
        "id": "6571b13a"
      },
      "outputs": [],
      "source": [
        "%matplotlib inline\n",
        "import matplotlib.pyplot as plt\n",
        "import numpy as np"
      ]
    },
    {
      "cell_type": "code",
      "execution_count": 83,
      "id": "1dd4ced6",
      "metadata": {
        "colab": {
          "base_uri": "https://localhost:8080/"
        },
        "id": "1dd4ced6",
        "outputId": "42b83506-41da-4ae0-eada-1e1646a0d579"
      },
      "outputs": [
        {
          "output_type": "stream",
          "name": "stdout",
          "text": [
            "ally distance: 100\n"
          ]
        }
      ],
      "source": [
        "def explore(enemyDist):\n",
        "  return 1.0 if enemyDist > 4.0 else 0.0\n",
        "\n",
        "def back_to_base(baseDist, allyDist):\n",
        "  return baseDist / 10.0 if allyDist > 10.0 else 0.0\n",
        "\n",
        "def defend_base(baseDist, enemyDist):\n",
        "  return 0.0 if enemyDist > 4.0 else 6.0 / (baseDist + 1)\n",
        "\n",
        "def flee_to_base(baseDist, enemyDist):\n",
        "  return 0.0 if enemyDist > 4.0 else baseDist / 8.0\n",
        "\n",
        "\n",
        "ENEMY_DIST = np.arange(0, 30, 0.05)\n",
        "BASE_DIST = np.arange(0, 30, 0.05)\n",
        "ALLY_DIST = np.arange(0, 30, 0.05)\n",
        "\n",
        "ALLY_DIST = [100]\n",
        "\n",
        "img = np.zeros((BASE_DIST.shape[0], ENEMY_DIST.shape[0]))\n",
        "ht = np.zeros((4, ENEMY_DIST.shape[0], ENEMY_DIST.shape[0]))\n",
        "# TODO: Vectorize\n",
        "for iad, ad in enumerate(ALLY_DIST):\n",
        "  print(f\"ally distance: {ad}\")\n",
        "  for ibd, bd in enumerate(BASE_DIST):\n",
        "    for ied, ed in enumerate(ENEMY_DIST):\n",
        "          utility = np.array([explore(ed), back_to_base(bd, ad), defend_base(bd, ed), flee_to_base(bd, ed)])\n",
        "          #if utility[-1] > 0.8:\n",
        "          #  print(flee_to_base(bd, ed))\n",
        "          for i in range(utility.shape[0]):\n",
        "              ht[i][ibd][ied] = utility[i]\n",
        "          img[ibd][ied] = np.argmax(utility)\n",
        "  break"
      ]
    },
    {
      "cell_type": "code",
      "source": [
        "fig, ax = plt.subplots()\n",
        "for i in range(4): # so all colors are present\n",
        "  img[0][i] = i\n",
        "\n",
        "et=[np.min(BASE_DIST), np.max(BASE_DIST), np.max(ENEMY_DIST), np.min(ENEMY_DIST)]\n",
        "#print(f\"average: {np.average(img)}\")\n",
        "im = ax.imshow(img, extent=et)\n",
        "ax.set_aspect('auto')\n",
        "ax.set_xlabel(\"base dist\")\n",
        "ax.set_ylabel(\"enemy dist\")\n",
        "\n",
        "\n",
        "plt.colorbar(im)\n",
        "\n",
        "fig, ax = plt.subplots(2, 2)\n",
        "for i in range(4):\n",
        "    im = ax[i %2, i // 2].imshow(ht[i], extent=et, cmap='Greys')\n",
        "    ax[i %2, i // 2].set_aspect('auto')\n",
        "    ax[i %2, i // 2].set_xlabel(\"base dist\")\n",
        "    ax[i %2, i // 2].set_ylabel(\"enemy dist\")\n",
        "    plt.colorbar(im)\n",
        "\n",
        "# Yellow -  flee to base\n",
        "# Purple -  explore\n",
        "# Cyan -    back to base\n",
        "# Green -   defend base"
      ],
      "metadata": {
        "colab": {
          "base_uri": "https://localhost:8080/",
          "height": 549
        },
        "id": "HKjFy3fBKIJU",
        "outputId": "3ff1cb2c-014e-4cd9-8fe8-e0b472462497"
      },
      "id": "HKjFy3fBKIJU",
      "execution_count": 84,
      "outputs": [
        {
          "output_type": "display_data",
          "data": {
            "text/plain": [
              "<Figure size 432x288 with 2 Axes>"
            ],
            "image/png": "[encoded data removed]"
          },
          "metadata": {
            "needs_background": "light"
          }
        },
        {
          "output_type": "display_data",
          "data": {
            "text/plain": [
              "<Figure size 432x288 with 8 Axes>"
            ],
            "image/png": "[encoded data removed]"
          },
          "metadata": {
            "needs_background": "light"
          }
        }
      ]
    }
  ],
  "metadata": {
    "kernelspec": {
      "display_name": "Python 3 (ipykernel)",
      "language": "python",
      "name": "python3"
    },
    "language_info": {
      "codemirror_mode": {
        "name": "ipython",
        "version": 3
      },
      "file_extension": ".py",
      "mimetype": "text/x-python",
      "name": "python",
      "nbconvert_exporter": "python",
      "pygments_lexer": "ipython3",
      "version": "3.10.6"
    },
    "colab": {
      "provenance": [],
      "collapsed_sections": []
    }
  },
  "nbformat": 4,
  "nbformat_minor": 5
}